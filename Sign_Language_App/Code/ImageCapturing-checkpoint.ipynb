{
 "cells": [
  {
   "cell_type": "code",
   "execution_count": 4,
   "id": "92ba45d9",
   "metadata": {},
   "outputs": [],
   "source": [
    "import cv2\n",
    "import os"
   ]
  },
  {
   "cell_type": "code",
   "execution_count": 6,
   "id": "0fb5742d",
   "metadata": {},
   "outputs": [],
   "source": [
    "import time\n",
    "import uuid"
   ]
  },
  {
   "cell_type": "code",
   "execution_count": 8,
   "id": "a5a7a7e8",
   "metadata": {},
   "outputs": [],
   "source": [
    "IMAGES_PATH = \"E:/Modules/Modules/Project/Sign-Language-Reserach/Sign_Language_App/Tensorflow/ImageData\""
   ]
  },
  {
   "cell_type": "code",
   "execution_count": 9,
   "id": "3e816eac",
   "metadata": {},
   "outputs": [],
   "source": [
    "labels = ['hello','Thanks','Yes','no','Iloveyou']\n"
   ]
  },
  {
   "cell_type": "code",
   "execution_count": null,
   "id": "1e8d2711",
   "metadata": {},
   "outputs": [],
   "source": [
    "number_imgs = 15\n",
    "for label in labels:\n",
    "    get_ipython().system(\"mkdir {'Tensorflow\\\\workspace\\\\ImageData\\\\\\\\'+label}\")\n",
    "    cap = cv2.VideoCapture(0)\n",
    "    print('collecting images for {}'.format(label))\n",
    "    time.sleep(5)\n",
    "    for imgnum in range(number_imgs):\n",
    "        ret, frame = cap.read()\n",
    "        imgname = os.path.join(IMAGES_PATH, label, label+'.'+'{}.jpg'.format(str(uuid.uuid1())))\n",
    "        cv2.imwrite(imgname,frame)\n",
    "        cv2.imshow('frame', frame)\n",
    "        time.sleep(2)\n",
    "        \n",
    "        if cv2.waitKey(1) & 0xFF == ord('q'):\n",
    "            break\n",
    "            \n",
    "    cap.release()"
   ]
  },
  {
   "cell_type": "code",
   "execution_count": null,
   "id": "0e5f5744",
   "metadata": {},
   "outputs": [],
   "source": []
  }
 ],
 "metadata": {
  "kernelspec": {
   "display_name": "Python 3 (ipykernel)",
   "language": "python",
   "name": "python3"
  },
  "language_info": {
   "codemirror_mode": {
    "name": "ipython",
    "version": 3
   },
   "file_extension": ".py",
   "mimetype": "text/x-python",
   "name": "python",
   "nbconvert_exporter": "python",
   "pygments_lexer": "ipython3",
   "version": "3.9.13"
  }
 },
 "nbformat": 4,
 "nbformat_minor": 5
}
